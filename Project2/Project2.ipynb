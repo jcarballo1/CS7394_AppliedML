{
 "cells": [
  {
   "cell_type": "markdown",
   "metadata": {},
   "source": [
    "# Project 2\n",
    "### CS 5/7394 - Applied Machine Learning\n",
    "\n",
    "- **Due** - March 11 @ 11:59 pm pushed to Github repo\n",
    "- **Teams** - You can do this project solo or in pairs.  Not 3, not 4 not 5... Max of 2. If a 5394 student pairs with a 7394 student, the pair needs to do the 7394 work."
   ]
  },
  {
   "cell_type": "markdown",
   "metadata": {},
   "source": [
    "Below are 6 Kaggle Datasets.  You will choose 1 to work with for this project.\n",
    "\n",
    "- [Airfare Prediction Dataset](https://www.kaggle.com/zwartfreak/airline-fare-prediction)\n",
    "- [Chinese Rest Holiday Dataset](https://www.kaggle.com/holoong9291/chinese-rest-holiday-dataset-2020-to-2022)\n",
    "- [Jigsaw Toxic Comment Classification Challenge](https://www.kaggle.com/julian3833/jigsaw-toxic-comment-classification-challenge?select=train.csv)\n",
    "- [Latest Covid 19 Dataset Worldwide](https://www.kaggle.com/sandhyakrishnan02/latest-covid-19-dataset-worldwide)\n",
    "- [Trains](https://www.kaggle.com/vahidehdashti/machinelearningdatabase-trains?select=trains-original.data)\n",
    "- [Football Data top 5 Leagues](https://www.kaggle.com/sanjeetsinghnaik/football-data-top-5-leagues)\n",
    "\n",
    "Merging disparate datasets is a staple of the data exploration process.  Therefore, for which ever data set above that you choose, you will need to independently find **an additional** dataset to merge with your selection.  The only requirement is that it add to the richness of the original dataset. Students in the 7000-level version of the class need to find two additional data sets to merge with the original selection.\n",
    "\n",
    "_Note_: If you want to start with a different data set, you need to get Fontenot's OK first."
   ]
  },
  {
   "cell_type": "markdown",
   "metadata": {},
   "source": [
    "### Your Tasks\n",
    "\n",
    "Below, there are cells that provide directions on what to do for the project.\n",
    "\n",
    "You can insert as many cells between the ones below as you'd like, but please **Do NOT** change the cells already provided."
   ]
  },
  {
   "cell_type": "markdown",
   "metadata": {},
   "source": [
    "### Part 1 - Getting Started\n",
    "\n",
    "- Import libraries\n",
    "- Load original Data (which ever one you chose from the provided list) into a data frame.\n",
    "- Load your additional data set(s) into a data frame.\n",
    "- In a markdown cell, provide a brief description of your the data sets you've chosen to work with.\n",
    "- Develop a list of 3 - 4 questions that you hope to be able to answer after the exploration of the data and write them in this section."
   ]
  },
  {
   "cell_type": "markdown",
   "metadata": {
    "pycharm": {
     "name": "#%% md\n"
    }
   },
   "source": [
    "#### Datasets being used:\n",
    "- [Jigsaw Toxic Comment Classification Challenge](https://www.kaggle.com/julian3833/jigsaw-toxic-comment-classification-challenge?select=train.csv)\n",
    "- [1 million Reddit comments from 40 subreddits](https://www.kaggle.com/smagnan/1-million-reddit-comments-from-40-subreddits?select=kaggle_RC_2019-05.csv)\n",
    "- [Cleaned Toxic Comments](https://www.kaggle.com/fizzbuzz/cleaned-toxic-comments?select=train_preprocessed.csv)"
   ]
  },
  {
   "cell_type": "markdown",
   "source": [
    "#### Dataset Descriptions:\n",
    "\n",
    "**Jigsaw Toxic Comment Dataset:**\n",
    "Data taken from the Toxic Comment Classification Challenge. Classifies each comment based on the severity/type of toxicity (toxic, severe, obscene, threat, insult, and identity hate) with 1 or 0.\n",
    "\n",
    "**1 million Reddit Comments Dataset:**\n",
    "These comments are taken from 40 different subreddits from the Reddit social media platform. Each row is stored with the comment, the subreddit it came from, a 0 or 1 for whether the comment is controversial, and a score that's calculate by subtracted the downvotes from the upvotes.\n",
    "\n",
    "**Cleaned Toxic Comments Dataset:**\n",
    "This dataset is another one used for the Toxic Comment Classification Challenge. The format of the columns are the same as the dataset above, but it adds an extra \"toxicity\" attribute which stores a number for each type it is classified as (toxicity is a categorical attribute)."
   ],
   "metadata": {
    "collapsed": false,
    "pycharm": {
     "name": "#%% md\n"
    }
   }
  },
  {
   "cell_type": "markdown",
   "source": [
    "#### Questions we hope to answer:"
   ],
   "metadata": {
    "collapsed": false,
    "pycharm": {
     "name": "#%% md\n"
    }
   }
  },
  {
   "cell_type": "markdown",
   "source": [
    "#### Importing Libraries & Creating Dataframes:"
   ],
   "metadata": {
    "collapsed": false,
    "pycharm": {
     "name": "#%% md\n"
    }
   }
  },
  {
   "cell_type": "code",
   "execution_count": 100,
   "metadata": {
    "pycharm": {
     "name": "#%%\n"
    }
   },
   "outputs": [
    {
     "data": {
      "text/plain": "                 id                                       comment_text  toxic  \\\n0  0000997932d777bf  Explanation\\nWhy the edits made under my usern...      0   \n1  000103f0d9cfb60f  D'aww! He matches this background colour I'm s...      0   \n2  000113f07ec002fd  Hey man, I'm really not trying to edit war. It...      0   \n3  0001b41b1c6bb37e  \"\\nMore\\nI can't make any real suggestions on ...      0   \n4  0001d958c54c6e35  You, sir, are my hero. Any chance you remember...      0   \n\n   severe_toxic  obscene  threat  insult  identity_hate  \n0             0        0       0       0              0  \n1             0        0       0       0              0  \n2             0        0       0       0              0  \n3             0        0       0       0              0  \n4             0        0       0       0              0  ",
      "text/html": "<div>\n<style scoped>\n    .dataframe tbody tr th:only-of-type {\n        vertical-align: middle;\n    }\n\n    .dataframe tbody tr th {\n        vertical-align: top;\n    }\n\n    .dataframe thead th {\n        text-align: right;\n    }\n</style>\n<table border=\"1\" class=\"dataframe\">\n  <thead>\n    <tr style=\"text-align: right;\">\n      <th></th>\n      <th>id</th>\n      <th>comment_text</th>\n      <th>toxic</th>\n      <th>severe_toxic</th>\n      <th>obscene</th>\n      <th>threat</th>\n      <th>insult</th>\n      <th>identity_hate</th>\n    </tr>\n  </thead>\n  <tbody>\n    <tr>\n      <th>0</th>\n      <td>0000997932d777bf</td>\n      <td>Explanation\\nWhy the edits made under my usern...</td>\n      <td>0</td>\n      <td>0</td>\n      <td>0</td>\n      <td>0</td>\n      <td>0</td>\n      <td>0</td>\n    </tr>\n    <tr>\n      <th>1</th>\n      <td>000103f0d9cfb60f</td>\n      <td>D'aww! He matches this background colour I'm s...</td>\n      <td>0</td>\n      <td>0</td>\n      <td>0</td>\n      <td>0</td>\n      <td>0</td>\n      <td>0</td>\n    </tr>\n    <tr>\n      <th>2</th>\n      <td>000113f07ec002fd</td>\n      <td>Hey man, I'm really not trying to edit war. It...</td>\n      <td>0</td>\n      <td>0</td>\n      <td>0</td>\n      <td>0</td>\n      <td>0</td>\n      <td>0</td>\n    </tr>\n    <tr>\n      <th>3</th>\n      <td>0001b41b1c6bb37e</td>\n      <td>\"\\nMore\\nI can't make any real suggestions on ...</td>\n      <td>0</td>\n      <td>0</td>\n      <td>0</td>\n      <td>0</td>\n      <td>0</td>\n      <td>0</td>\n    </tr>\n    <tr>\n      <th>4</th>\n      <td>0001d958c54c6e35</td>\n      <td>You, sir, are my hero. Any chance you remember...</td>\n      <td>0</td>\n      <td>0</td>\n      <td>0</td>\n      <td>0</td>\n      <td>0</td>\n      <td>0</td>\n    </tr>\n  </tbody>\n</table>\n</div>"
     },
     "execution_count": 100,
     "metadata": {},
     "output_type": "execute_result"
    }
   ],
   "source": [
    "import pandas as pd\n",
    "import numpy as np\n",
    "%matplotlib inline\n",
    "import matplotlib.pyplot as plt\n",
    "\n",
    "jigsaw_root = \"train.csv\"\n",
    "reddit_root = \"kaggle_RC_2019-05.csv\"\n",
    "cleaned_toxic_root = \"train_preprocessed.csv\"\n",
    "\n",
    "jigsaw_df = pd.read_csv(jigsaw_root)\n",
    "reddit_df = pd.read_csv(reddit_root)\n",
    "cleaned_df = pd.read_csv(cleaned_toxic_root)\n",
    "\n",
    "jigsaw_df.head()"
   ]
  },
  {
   "cell_type": "code",
   "execution_count": 63,
   "outputs": [
    {
     "data": {
      "text/plain": "       subreddit                                               body  \\\n0  gameofthrones  Your submission has been automatically removed...   \n1            aww  Dont squeeze her with you massive hand, you me...   \n2         gaming  It's pretty well known and it was a paid produ...   \n3           news  You know we have laws against that currently c...   \n4       politics  Yes, there is a difference between gentle supp...   \n\n   controversiality  score  \n0                 0      1  \n1                 0     19  \n2                 0      3  \n3                 0     10  \n4                 0      1  ",
      "text/html": "<div>\n<style scoped>\n    .dataframe tbody tr th:only-of-type {\n        vertical-align: middle;\n    }\n\n    .dataframe tbody tr th {\n        vertical-align: top;\n    }\n\n    .dataframe thead th {\n        text-align: right;\n    }\n</style>\n<table border=\"1\" class=\"dataframe\">\n  <thead>\n    <tr style=\"text-align: right;\">\n      <th></th>\n      <th>subreddit</th>\n      <th>body</th>\n      <th>controversiality</th>\n      <th>score</th>\n    </tr>\n  </thead>\n  <tbody>\n    <tr>\n      <th>0</th>\n      <td>gameofthrones</td>\n      <td>Your submission has been automatically removed...</td>\n      <td>0</td>\n      <td>1</td>\n    </tr>\n    <tr>\n      <th>1</th>\n      <td>aww</td>\n      <td>Dont squeeze her with you massive hand, you me...</td>\n      <td>0</td>\n      <td>19</td>\n    </tr>\n    <tr>\n      <th>2</th>\n      <td>gaming</td>\n      <td>It's pretty well known and it was a paid produ...</td>\n      <td>0</td>\n      <td>3</td>\n    </tr>\n    <tr>\n      <th>3</th>\n      <td>news</td>\n      <td>You know we have laws against that currently c...</td>\n      <td>0</td>\n      <td>10</td>\n    </tr>\n    <tr>\n      <th>4</th>\n      <td>politics</td>\n      <td>Yes, there is a difference between gentle supp...</td>\n      <td>0</td>\n      <td>1</td>\n    </tr>\n  </tbody>\n</table>\n</div>"
     },
     "execution_count": 63,
     "metadata": {},
     "output_type": "execute_result"
    }
   ],
   "source": [
    "reddit_df.head()"
   ],
   "metadata": {
    "collapsed": false,
    "pycharm": {
     "name": "#%%\n"
    }
   }
  },
  {
   "cell_type": "code",
   "execution_count": 64,
   "outputs": [
    {
     "data": {
      "text/plain": "                                        comment_text                id  \\\n0  explanation why the edits made under my userna...  0000997932d777bf   \n1  d aww  he matches this background colour i m s...  000103f0d9cfb60f   \n2  hey man  i m really not trying to edit war  it...  000113f07ec002fd   \n3    more i can t make any real suggestions on im...  0001b41b1c6bb37e   \n4  you  sir  are my hero  any chance you remember...  0001d958c54c6e35   \n\n   identity_hate  insult  obscene    set  severe_toxic  threat  toxic  \\\n0            0.0     0.0      0.0  train           0.0     0.0    0.0   \n1            0.0     0.0      0.0  train           0.0     0.0    0.0   \n2            0.0     0.0      0.0  train           0.0     0.0    0.0   \n3            0.0     0.0      0.0  train           0.0     0.0    0.0   \n4            0.0     0.0      0.0  train           0.0     0.0    0.0   \n\n   toxicity  \n0       0.0  \n1       0.0  \n2       0.0  \n3       0.0  \n4       0.0  ",
      "text/html": "<div>\n<style scoped>\n    .dataframe tbody tr th:only-of-type {\n        vertical-align: middle;\n    }\n\n    .dataframe tbody tr th {\n        vertical-align: top;\n    }\n\n    .dataframe thead th {\n        text-align: right;\n    }\n</style>\n<table border=\"1\" class=\"dataframe\">\n  <thead>\n    <tr style=\"text-align: right;\">\n      <th></th>\n      <th>comment_text</th>\n      <th>id</th>\n      <th>identity_hate</th>\n      <th>insult</th>\n      <th>obscene</th>\n      <th>set</th>\n      <th>severe_toxic</th>\n      <th>threat</th>\n      <th>toxic</th>\n      <th>toxicity</th>\n    </tr>\n  </thead>\n  <tbody>\n    <tr>\n      <th>0</th>\n      <td>explanation why the edits made under my userna...</td>\n      <td>0000997932d777bf</td>\n      <td>0.0</td>\n      <td>0.0</td>\n      <td>0.0</td>\n      <td>train</td>\n      <td>0.0</td>\n      <td>0.0</td>\n      <td>0.0</td>\n      <td>0.0</td>\n    </tr>\n    <tr>\n      <th>1</th>\n      <td>d aww  he matches this background colour i m s...</td>\n      <td>000103f0d9cfb60f</td>\n      <td>0.0</td>\n      <td>0.0</td>\n      <td>0.0</td>\n      <td>train</td>\n      <td>0.0</td>\n      <td>0.0</td>\n      <td>0.0</td>\n      <td>0.0</td>\n    </tr>\n    <tr>\n      <th>2</th>\n      <td>hey man  i m really not trying to edit war  it...</td>\n      <td>000113f07ec002fd</td>\n      <td>0.0</td>\n      <td>0.0</td>\n      <td>0.0</td>\n      <td>train</td>\n      <td>0.0</td>\n      <td>0.0</td>\n      <td>0.0</td>\n      <td>0.0</td>\n    </tr>\n    <tr>\n      <th>3</th>\n      <td>more i can t make any real suggestions on im...</td>\n      <td>0001b41b1c6bb37e</td>\n      <td>0.0</td>\n      <td>0.0</td>\n      <td>0.0</td>\n      <td>train</td>\n      <td>0.0</td>\n      <td>0.0</td>\n      <td>0.0</td>\n      <td>0.0</td>\n    </tr>\n    <tr>\n      <th>4</th>\n      <td>you  sir  are my hero  any chance you remember...</td>\n      <td>0001d958c54c6e35</td>\n      <td>0.0</td>\n      <td>0.0</td>\n      <td>0.0</td>\n      <td>train</td>\n      <td>0.0</td>\n      <td>0.0</td>\n      <td>0.0</td>\n      <td>0.0</td>\n    </tr>\n  </tbody>\n</table>\n</div>"
     },
     "execution_count": 64,
     "metadata": {},
     "output_type": "execute_result"
    }
   ],
   "source": [
    "cleaned_df.head()"
   ],
   "metadata": {
    "collapsed": false,
    "pycharm": {
     "name": "#%%\n"
    }
   }
  },
  {
   "cell_type": "markdown",
   "metadata": {},
   "source": [
    "### Part 2 - Data Inspection\n",
    "\n",
    "Write some code to summarize the datasets.  Think about the following questions:\n",
    "- What type of data is each variable? (think like a data scientist here, not a computer scientist)\n",
    "- What is the total size of the data sets?\n",
    "- What time boundaries are there in the dataset?  IOW, what time frame do they span?\n",
    "- Are there any missing values in any of the variables?\n",
    "\n",
    "Do this with Intentionality.  Don't skimp."
   ]
  },
  {
   "cell_type": "markdown",
   "metadata": {
    "pycharm": {
     "name": "#%% md\n"
    }
   },
   "source": [
    "#### Jigsaw Toxic Comment Dataset:\n",
    "\n",
    "- Data Types for Each Variable\n",
    "  - id: object/string\n",
    "    - for identification\n",
    "  - comment-text: object/string\n",
    "    - text of comment\n",
    "  - toxic: int (0/1)\n",
    "    - if comment is of type \"toxic\"\n",
    "  - severe_toxic: int (0/1)\n",
    "    - if comment is of type \"severe_toxic\"\n",
    "  - obscene: int (0/1)\n",
    "    - if comment is of type \"obscene\"\n",
    "  - threat: int (0/1)\n",
    "    - if comment is of type \"threat\"\n",
    "  - insult: int (0/1)\n",
    "    - if comment is of type \"insult\"\n",
    "  - identity_hate: int (0/1)\n",
    "    - if comment is of type \"identity_hate\"\n",
    "- Total Size of the Dataset: 159571 entries\n",
    "- Time Boundaries: N/A\n",
    "- Any Missing Values: N/A"
   ]
  },
  {
   "cell_type": "code",
   "execution_count": 71,
   "outputs": [
    {
     "name": "stdout",
     "output_type": "stream",
     "text": [
      "<class 'pandas.core.frame.DataFrame'>\n",
      "RangeIndex: 159571 entries, 0 to 159570\n",
      "Data columns (total 8 columns):\n",
      " #   Column         Non-Null Count   Dtype \n",
      "---  ------         --------------   ----- \n",
      " 0   id             159571 non-null  object\n",
      " 1   comment_text   159571 non-null  object\n",
      " 2   toxic          159571 non-null  int64 \n",
      " 3   severe_toxic   159571 non-null  int64 \n",
      " 4   obscene        159571 non-null  int64 \n",
      " 5   threat         159571 non-null  int64 \n",
      " 6   insult         159571 non-null  int64 \n",
      " 7   identity_hate  159571 non-null  int64 \n",
      "dtypes: int64(6), object(2)\n",
      "memory usage: 9.7+ MB\n"
     ]
    }
   ],
   "source": [
    "# lists data types for each column\n",
    "jigsaw_df.info()"
   ],
   "metadata": {
    "collapsed": false,
    "pycharm": {
     "name": "#%%\n"
    }
   }
  },
  {
   "cell_type": "code",
   "execution_count": 72,
   "outputs": [
    {
     "data": {
      "text/plain": "Empty DataFrame\nColumns: [id, comment_text, toxic, severe_toxic, obscene, threat, insult, identity_hate]\nIndex: []",
      "text/html": "<div>\n<style scoped>\n    .dataframe tbody tr th:only-of-type {\n        vertical-align: middle;\n    }\n\n    .dataframe tbody tr th {\n        vertical-align: top;\n    }\n\n    .dataframe thead th {\n        text-align: right;\n    }\n</style>\n<table border=\"1\" class=\"dataframe\">\n  <thead>\n    <tr style=\"text-align: right;\">\n      <th></th>\n      <th>id</th>\n      <th>comment_text</th>\n      <th>toxic</th>\n      <th>severe_toxic</th>\n      <th>obscene</th>\n      <th>threat</th>\n      <th>insult</th>\n      <th>identity_hate</th>\n    </tr>\n  </thead>\n  <tbody>\n  </tbody>\n</table>\n</div>"
     },
     "execution_count": 72,
     "metadata": {},
     "output_type": "execute_result"
    }
   ],
   "source": [
    "empty_vals = jigsaw_df[jigsaw_df.isna().isnull().any(axis=1)]\n",
    "empty_vals"
   ],
   "metadata": {
    "collapsed": false,
    "pycharm": {
     "name": "#%%\n"
    }
   }
  },
  {
   "cell_type": "markdown",
   "source": [
    "#### 1 Million Reddit Comments Dataset:\n",
    "\n",
    "- Data Types for Each Variable\n",
    "  - subreddit: object/string\n",
    "    - the subreddit the comment was pulled from\n",
    "  - body: object/string\n",
    "    - the text of the comment\n",
    "  - controversiality: int (0/1)\n",
    "    - whether the comment was seen as controversial\n",
    "  - score: int\n",
    "    - upvotes minus downvotes\n",
    "- Total Size of the Dataset: 1000000 entries\n",
    "- Time Boundaries: N/A\n",
    "- Any Missing Value: N/A"
   ],
   "metadata": {
    "collapsed": false
   }
  },
  {
   "cell_type": "code",
   "execution_count": 73,
   "outputs": [
    {
     "name": "stdout",
     "output_type": "stream",
     "text": [
      "<class 'pandas.core.frame.DataFrame'>\n",
      "RangeIndex: 1000000 entries, 0 to 999999\n",
      "Data columns (total 4 columns):\n",
      " #   Column            Non-Null Count    Dtype \n",
      "---  ------            --------------    ----- \n",
      " 0   subreddit         1000000 non-null  object\n",
      " 1   body              1000000 non-null  object\n",
      " 2   controversiality  1000000 non-null  int64 \n",
      " 3   score             1000000 non-null  int64 \n",
      "dtypes: int64(2), object(2)\n",
      "memory usage: 30.5+ MB\n"
     ]
    }
   ],
   "source": [
    "reddit_df.info()"
   ],
   "metadata": {
    "collapsed": false,
    "pycharm": {
     "name": "#%%\n"
    }
   }
  },
  {
   "cell_type": "code",
   "execution_count": 74,
   "outputs": [
    {
     "data": {
      "text/plain": "Empty DataFrame\nColumns: [subreddit, body, controversiality, score]\nIndex: []",
      "text/html": "<div>\n<style scoped>\n    .dataframe tbody tr th:only-of-type {\n        vertical-align: middle;\n    }\n\n    .dataframe tbody tr th {\n        vertical-align: top;\n    }\n\n    .dataframe thead th {\n        text-align: right;\n    }\n</style>\n<table border=\"1\" class=\"dataframe\">\n  <thead>\n    <tr style=\"text-align: right;\">\n      <th></th>\n      <th>subreddit</th>\n      <th>body</th>\n      <th>controversiality</th>\n      <th>score</th>\n    </tr>\n  </thead>\n  <tbody>\n  </tbody>\n</table>\n</div>"
     },
     "execution_count": 74,
     "metadata": {},
     "output_type": "execute_result"
    }
   ],
   "source": [
    "empty_vals = reddit_df[reddit_df.isna().isnull().any(axis=1)]\n",
    "empty_vals"
   ],
   "metadata": {
    "collapsed": false,
    "pycharm": {
     "name": "#%%\n"
    }
   }
  },
  {
   "cell_type": "markdown",
   "source": [
    "#### Cleaned Toxic Comments Dataset:\n",
    "\n",
    "- Data Types for Each Variable\n",
    "  - comment-text: object/string\n",
    "    - text of the comment\n",
    "  - id: object/string\n",
    "    - for identification\n",
    "  - identity_hate: float\n",
    "    - if comment is of type \"identity_hate\"\n",
    "  - insult: float\n",
    "    - if comment is of type \"insult\"\n",
    "  - obscene: float\n",
    "    - if comment is of type \"obscene\"\n",
    "  - set: object/string\n",
    "    - if comment is from the training or test set\n",
    "  - severe_toxic: float\n",
    "    - if comment is of type \"severe_toxic\"\n",
    "  - threat: float\n",
    "    - if comment is of type \"threat\"\n",
    "  - toxic: float\n",
    "    - if comment is of type \"toxic\"\n",
    "  - toxicity: float\n",
    "    - number corresponding to comment type (i.e \"toxic\"  6)\n",
    "- Total Size of the Dataset: 1595671 entries\n",
    "- Time Boundaries: N/A\n",
    "- Any Missing Value: N/A"
   ],
   "metadata": {
    "collapsed": false
   }
  },
  {
   "cell_type": "code",
   "execution_count": 75,
   "outputs": [
    {
     "name": "stdout",
     "output_type": "stream",
     "text": [
      "<class 'pandas.core.frame.DataFrame'>\n",
      "RangeIndex: 159571 entries, 0 to 159570\n",
      "Data columns (total 10 columns):\n",
      " #   Column         Non-Null Count   Dtype  \n",
      "---  ------         --------------   -----  \n",
      " 0   comment_text   159571 non-null  object \n",
      " 1   id             159571 non-null  object \n",
      " 2   identity_hate  159571 non-null  float64\n",
      " 3   insult         159571 non-null  float64\n",
      " 4   obscene        159571 non-null  float64\n",
      " 5   set            159571 non-null  object \n",
      " 6   severe_toxic   159571 non-null  float64\n",
      " 7   threat         159571 non-null  float64\n",
      " 8   toxic          159571 non-null  float64\n",
      " 9   toxicity       159571 non-null  float64\n",
      "dtypes: float64(7), object(3)\n",
      "memory usage: 12.2+ MB\n"
     ]
    }
   ],
   "source": [
    "cleaned_df.info()"
   ],
   "metadata": {
    "collapsed": false,
    "pycharm": {
     "name": "#%%\n"
    }
   }
  },
  {
   "cell_type": "code",
   "execution_count": 76,
   "outputs": [
    {
     "data": {
      "text/plain": "Empty DataFrame\nColumns: [comment_text, id, identity_hate, insult, obscene, set, severe_toxic, threat, toxic, toxicity]\nIndex: []",
      "text/html": "<div>\n<style scoped>\n    .dataframe tbody tr th:only-of-type {\n        vertical-align: middle;\n    }\n\n    .dataframe tbody tr th {\n        vertical-align: top;\n    }\n\n    .dataframe thead th {\n        text-align: right;\n    }\n</style>\n<table border=\"1\" class=\"dataframe\">\n  <thead>\n    <tr style=\"text-align: right;\">\n      <th></th>\n      <th>comment_text</th>\n      <th>id</th>\n      <th>identity_hate</th>\n      <th>insult</th>\n      <th>obscene</th>\n      <th>set</th>\n      <th>severe_toxic</th>\n      <th>threat</th>\n      <th>toxic</th>\n      <th>toxicity</th>\n    </tr>\n  </thead>\n  <tbody>\n  </tbody>\n</table>\n</div>"
     },
     "execution_count": 76,
     "metadata": {},
     "output_type": "execute_result"
    }
   ],
   "source": [
    "empty_vals = cleaned_df[cleaned_df.isna().isnull().any(axis=1)]\n",
    "empty_vals"
   ],
   "metadata": {
    "collapsed": false,
    "pycharm": {
     "name": "#%%\n"
    }
   }
  },
  {
   "cell_type": "markdown",
   "metadata": {},
   "source": [
    "### Part 3 - Data Description\n",
    "\n",
    "- Create a data description (data dictionary) for your data sets.\n",
    "    - Describe each variable\n",
    "    - If categorical, what levels are present? If the levels are encoded, what do the codes mean?\n",
    "    - If numeric, provide min, max, median and any other univariate stats you'd like to add in.\n",
    "- Where appropriate, provide histograms or other visualizations to characterize each variable."
   ]
  },
  {
   "cell_type": "markdown",
   "metadata": {
    "pycharm": {
     "name": "#%% md\n"
    }
   },
   "source": [
    "#### Jigsaw Toxic Comment Dataset:\n",
    "\n",
    "- id: object/string\n",
    "  - for identification\n",
    "  - categorical\n",
    "- comment-text: object/string\n",
    "  - text of comment\n",
    "  - categorical\n",
    "- toxic: int (0/1)\n",
    "  - if comment is of type \"toxic\" -> 1\n",
    "  - if not -> 0\n",
    "  - categorical\n",
    "- severe_toxic: int (0/1)\n",
    "  - if comment is of type \"severe_toxic\" -> 1\n",
    "  - if not -> 0\n",
    "  - categorical\n",
    "- obscene: int (0/1)\n",
    "  - if comment is of type \"obscene\" -> 1\n",
    "  - if not -> 0\n",
    "  - categorical\n",
    "- threat: int (0/1)\n",
    "  - if comment is of type \"threat\" -> 1\n",
    "  - if not -> 0\n",
    "  - categorical\n",
    "- insult: int (0/1)\n",
    "  - if comment is of type \"insult\" -> 1\n",
    "  - if not -> 0\n",
    "  - categorical\n",
    "- identity_hate: int (0/1)\n",
    "  - if comment is of type \"identity_hate\" -> 1\n",
    "  - if not -> 0\n",
    "  - categorical"
   ]
  },
  {
   "cell_type": "markdown",
   "source": [
    "#### 1 Million Reddit Comments Dataset:\n",
    "\n",
    "- subreddit: object/string\n",
    "  - the subreddit the comment was pulled from\n",
    "  - categorical\n",
    "- body: object/string\n",
    "  - the text of the comment\n",
    "  - categorical\n",
    "- controversiality: int (0/1)\n",
    "  - if comment was controversial -> 1\n",
    "  - if not -> 0\n",
    "  - categorical\n",
    "- score: int\n",
    "  - upvotes minus downvotes\n",
    "  - numerical"
   ],
   "metadata": {
    "collapsed": false,
    "pycharm": {
     "name": "#%% md\n"
    }
   }
  },
  {
   "cell_type": "markdown",
   "source": [
    "#### Cleaned Toxic Comments Dataset:\n",
    "\n",
    "- comment-text: object/string\n",
    "  - text of the comment\n",
    "  - categorical\n",
    "- id: object/string\n",
    "  - for identification\n",
    "  - categorical\n",
    "- identity_hate: float\n",
    "  - if comment is of type \"identity_hate\" -> 1\n",
    "  - if not -> 0\n",
    "  - categorical\n",
    "- insult: float\n",
    "  - if comment is of type \"insult\" -> 1\n",
    "  - if not -> 0\n",
    "  - categorical\n",
    "- obscene: float\n",
    "  - if comment is of type \"obscene\" -> 1\n",
    "  - if not -> 0\n",
    "  - categorical\n",
    "- set: object/string\n",
    "  - if comment is from the training (\"train\") or test (\"test\") set\n",
    "  - categorical\n",
    "- severe_toxic: float\n",
    "  - if comment is of type \"severe_toxic\" -> 1\n",
    "  - if not -> 0\n",
    "  - categorical\n",
    "- threat: float\n",
    "  - if comment is of type \"threat\" -> 1\n",
    "  - if not -> 0\n",
    "  - categorical\n",
    "- toxic: float\n",
    "  - if comment is of type \"toxic\" -> 1\n",
    "  - if not -> 0\n",
    "  - categorical\n",
    "- toxicity: float\n",
    "  - number corresponding to comment type\n",
    "    - 1: identity_hate\n",
    "    - 2: insult\n",
    "    - 3: obscene\n",
    "    - 4: severe_toxic\n",
    "    - 5: threat\n",
    "    - 6: toxic\n",
    "  - categorical"
   ],
   "metadata": {
    "collapsed": false,
    "pycharm": {
     "name": "#%% md\n"
    }
   }
  },
  {
   "cell_type": "markdown",
   "source": [
    "**Toxicity:**"
   ],
   "metadata": {
    "collapsed": false,
    "pycharm": {
     "name": "#%% md\n"
    }
   }
  },
  {
   "cell_type": "code",
   "execution_count": 110,
   "outputs": [
    {
     "data": {
      "text/plain": "<AxesSubplot:>"
     },
     "execution_count": 110,
     "metadata": {},
     "output_type": "execute_result"
    },
    {
     "data": {
      "text/plain": "<Figure size 432x288 with 1 Axes>",
      "image/png": "[encoded data removed]"
     },
     "metadata": {
      "needs_background": "light"
     },
     "output_type": "display_data"
    }
   ],
   "source": [
    "cleaned_df_cut = pd.cut(cleaned_df[\"toxicity\"],\n",
    "                               bins=[0, 1, 2, 3, 4, 5, np.nan],\n",
    "                               labels=[\"identity_hate\", \"insult\", \"obscene\", \"severe\", \"threat\", \"toxic\"])\n",
    "cleaned_df_cut.hist()"
   ],
   "metadata": {
    "collapsed": false,
    "pycharm": {
     "name": "#%%\n"
    }
   }
  },
  {
   "cell_type": "markdown",
   "metadata": {},
   "source": [
    "### Part 3 - Merge the data\n",
    "\n",
    "Now that you have a better feel for each of your two (or three, for the 7394 students) data sets, it is time to merge them. Describe your strategy for merging the data sets and then actually perform the merge.\n",
    "\n",
    "Develop a strategy for verifying that the data is properly merged (hoping and finger-crossing are not valid strategies)."
   ]
  },
  {
   "cell_type": "code",
   "execution_count": 76,
   "metadata": {
    "pycharm": {
     "name": "#%%\n"
    }
   },
   "outputs": [],
   "source": []
  },
  {
   "cell_type": "markdown",
   "metadata": {},
   "source": [
    "### Part 4 - Explore Bivariate relationships\n",
    "\n",
    "- Choose a reasoned set of variables to explore further.  You don't have to explore all possible pairs of variables, nor do we want to grade that much.  Choose 7 - 9 variables. One should be a variable that you'd like to predict (target variable) using the others (predictor variables).\n",
    "- List your predictor variables\n",
    "- List your target variable\n",
    "- Briefly describe why you have chosen these.\n",
    "\n",
    "Use any of the available visualizations from Seaborn to explore the relationships between the variables. Explore the relationships among the predictor variables as well as the relationship between each predictor variable and the target variable.  Which of the predictor variables are most strongly related?  Are there any interesting relationships between categorical predictors and numeric predictors?  If there are any dichotomous variables, does that influence any of the relationships? Are the relationships positive or negative?\n",
    "\n",
    "Below each plot, you should provide a description and interpretation of the plot.  Make sure to include why the variables in that plot were chosen and what you hope the reader would gain from it as well."
   ]
  },
  {
   "cell_type": "code",
   "execution_count": 76,
   "metadata": {
    "collapsed": true
   },
   "outputs": [],
   "source": []
  }
 ],
 "metadata": {
  "kernelspec": {
   "display_name": "Python 3 (ipykernel)",
   "language": "python",
   "name": "python3"
  },
  "language_info": {
   "codemirror_mode": {
    "name": "ipython",
    "version": 3
   },
   "file_extension": ".py",
   "mimetype": "text/x-python",
   "name": "python",
   "nbconvert_exporter": "python",
   "pygments_lexer": "ipython3",
   "version": "3.9.7"
  }
 },
 "nbformat": 4,
 "nbformat_minor": 1
}