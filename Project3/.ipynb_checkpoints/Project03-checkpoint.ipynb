{
 "cells": [
  {
   "cell_type": "markdown",
   "id": "7f128bc6",
   "metadata": {},
   "source": [
    "# Project 3\n",
    "## CS 7324\n",
    "#### Jennifer Carballo & Amory Weinzierl"
   ]
  },
  {
   "cell_type": "code",
   "execution_count": null,
   "id": "803cb89b",
   "metadata": {},
   "outputs": [],
   "source": [
    "# import libraries\n",
    "import pandas as pd\n",
    "import matplotlib.pyplot as plt\n",
    "import numpy as np"
   ]
  },
  {
   "cell_type": "markdown",
   "id": "5c172408",
   "metadata": {},
   "source": [
    "#### load in datasets"
   ]
  },
  {
   "cell_type": "code",
   "execution_count": null,
   "id": "fcded35e",
   "metadata": {},
   "outputs": [],
   "source": [
    "# load in real estate dataset\n",
    "\n",
    "real_estate_df = pd.read_csv(\"data/WakeCountyHousing.csv\")\n",
    "\n",
    "# display df\n",
    "real_estate_df.head()"
   ]
  },
  {
   "cell_type": "code",
   "execution_count": null,
   "id": "fa691381",
   "metadata": {},
   "outputs": [],
   "source": [
    "# load in reddit upvote dataset - test and train\n",
    "\n",
    "reddit_upvotes_train_df = pd.read_csv(\"data/train_NIR5Yl1.csv\")\n",
    "reddit_upvotes_test_df = pd.read_csv(\"data/test_8i3B3FC.csv\")\n",
    "\n",
    "reddit_upvotes_train_df.head()"
   ]
  },
  {
   "cell_type": "code",
   "execution_count": null,
   "id": "04c315b0",
   "metadata": {},
   "outputs": [],
   "source": [
    "reddit_upvotes_test_df.head()"
   ]
  },
  {
   "cell_type": "code",
   "execution_count": null,
   "id": "a0fff5ec",
   "metadata": {},
   "outputs": [],
   "source": [
    "# load in uber fare dataset\n",
    "\n",
    "uber_fares_df = pd.read_csv(\"data/uber.csv\")\n",
    "uber_fares_df = uber_fares_df.rename(columns={'Unnamed: 0': 'index'})\n",
    "uber_fares_df = uber_fares_df.set_index(\"index\")\n",
    "\n",
    "uber_fares_df.head()"
   ]
  },
  {
   "cell_type": "markdown",
   "id": "c561ec05",
   "metadata": {},
   "source": [
    "#### explore data"
   ]
  },
  {
   "cell_type": "markdown",
   "id": "97990087",
   "metadata": {},
   "source": [
    "##### explore real estate data"
   ]
  },
  {
   "cell_type": "code",
   "execution_count": null,
   "id": "a7d8b49f",
   "metadata": {},
   "outputs": [],
   "source": [
    "real_estate_df.info()"
   ]
  },
  {
   "cell_type": "code",
   "execution_count": null,
   "id": "a27b211a",
   "metadata": {},
   "outputs": [],
   "source": [
    "real_estate_df.describe()"
   ]
  },
  {
   "cell_type": "code",
   "execution_count": null,
   "id": "42fe4b3d",
   "metadata": {},
   "outputs": [],
   "source": [
    "real_estate_df.hist(bins=50, figsize=(20,15))\n",
    "plt.show()"
   ]
  },
  {
   "cell_type": "code",
   "execution_count": null,
   "id": "58b96d55",
   "metadata": {},
   "outputs": [],
   "source": [
    "real_estate_df.isna().sum().sum()"
   ]
  },
  {
   "cell_type": "code",
   "execution_count": null,
   "id": "3911146d",
   "metadata": {},
   "outputs": [],
   "source": [
    "for columnName in real_estate_df:\n",
    "    print(columnName, real_estate_df[columnName].dtypes)"
   ]
  },
  {
   "cell_type": "code",
   "execution_count": null,
   "id": "fc00ecd1",
   "metadata": {},
   "outputs": [],
   "source": [
    "for columnName in real_estate_df:\n",
    "    print(columnName, real_estate_df[columnName].isna().sum())"
   ]
  },
  {
   "cell_type": "code",
   "execution_count": null,
   "id": "12e375dd",
   "metadata": {},
   "outputs": [],
   "source": [
    "real_estate_df['Bath'].value_counts()"
   ]
  },
  {
   "cell_type": "code",
   "execution_count": null,
   "id": "a72616be",
   "metadata": {},
   "outputs": [],
   "source": [
    "real_estate_df[real_estate_df['Bath'].isna()]"
   ]
  },
  {
   "cell_type": "code",
   "execution_count": null,
   "id": "fa15366b",
   "metadata": {},
   "outputs": [],
   "source": [
    "real_estate_df[real_estate_df['Design_Style'] == \"Conventional\"][\"Bath\"].value_counts()"
   ]
  },
  {
   "cell_type": "code",
   "execution_count": null,
   "id": "80edd033",
   "metadata": {},
   "outputs": [],
   "source": [
    "real_estate_df[real_estate_df['Design_Style'] == \"Condo\"][\"Bath\"].value_counts()"
   ]
  },
  {
   "cell_type": "markdown",
   "id": "0120b645",
   "metadata": {},
   "source": [
    "##### explore reddit upvote training data"
   ]
  },
  {
   "cell_type": "code",
   "execution_count": null,
   "id": "8b12c6c3",
   "metadata": {},
   "outputs": [],
   "source": [
    "reddit_upvotes_train_df.info()"
   ]
  },
  {
   "cell_type": "code",
   "execution_count": null,
   "id": "328478f5",
   "metadata": {},
   "outputs": [],
   "source": [
    "reddit_upvotes_train_df.describe()"
   ]
  },
  {
   "cell_type": "code",
   "execution_count": null,
   "id": "ba1801a9",
   "metadata": {},
   "outputs": [],
   "source": [
    "reddit_upvotes_train_df.hist(bins=50, figsize=(20,15))\n",
    "plt.show()"
   ]
  },
  {
   "cell_type": "code",
   "execution_count": null,
   "id": "5f59c1c0",
   "metadata": {},
   "outputs": [],
   "source": [
    "reddit_upvotes_train_df.isna().sum().sum()"
   ]
  },
  {
   "cell_type": "code",
   "execution_count": null,
   "id": "c2f1548f",
   "metadata": {},
   "outputs": [],
   "source": [
    "for columnName in reddit_upvotes_train_df:\n",
    "    print(columnName, reddit_upvotes_train_df[columnName].dtypes)"
   ]
  },
  {
   "cell_type": "markdown",
   "id": "9429ad86",
   "metadata": {},
   "source": [
    "##### explore uber fares data"
   ]
  },
  {
   "cell_type": "code",
   "execution_count": null,
   "id": "33b9e929",
   "metadata": {},
   "outputs": [],
   "source": [
    "uber_fares_df.info()"
   ]
  },
  {
   "cell_type": "code",
   "execution_count": null,
   "id": "78723317",
   "metadata": {},
   "outputs": [],
   "source": [
    "uber_fares_df.describe()"
   ]
  },
  {
   "cell_type": "code",
   "execution_count": null,
   "id": "1427d42d",
   "metadata": {},
   "outputs": [],
   "source": [
    "uber_fares_df.hist(bins=50, figsize=(20,15))\n",
    "plt.show()"
   ]
  },
  {
   "cell_type": "code",
   "execution_count": null,
   "id": "4658f754",
   "metadata": {},
   "outputs": [],
   "source": [
    "uber_fares_df.isna().sum().sum()"
   ]
  },
  {
   "cell_type": "code",
   "execution_count": null,
   "id": "6c9ba678",
   "metadata": {},
   "outputs": [],
   "source": [
    "for columnName in uber_fares_df:\n",
    "    print(columnName, uber_fares_df[columnName].isna().sum())"
   ]
  },
  {
   "cell_type": "code",
   "execution_count": null,
   "id": "e5195220",
   "metadata": {},
   "outputs": [],
   "source": [
    "# since only two datapoints in entire dataframe are null, simply remove rows where null data is\n",
    "uber_fares_df = uber_fares_df.dropna()"
   ]
  },
  {
   "cell_type": "code",
   "execution_count": null,
   "id": "ffc0d8f6",
   "metadata": {},
   "outputs": [],
   "source": [
    "uber_fares_df.isna().sum().sum()"
   ]
  },
  {
   "cell_type": "code",
   "execution_count": null,
   "id": "49165bf2",
   "metadata": {},
   "outputs": [],
   "source": [
    "for columnName in uber_fares_df:\n",
    "    print(columnName, uber_fares_df[columnName].dtypes)"
   ]
  },
  {
   "cell_type": "markdown",
   "id": "15f03420",
   "metadata": {},
   "source": [
    "#### executing tasks on real estate df"
   ]
  },
  {
   "cell_type": "code",
   "execution_count": null,
   "id": "50e98802",
   "metadata": {},
   "outputs": [],
   "source": []
  },
  {
   "cell_type": "markdown",
   "id": "0e84de14",
   "metadata": {},
   "source": [
    "## Executing tasks on reddit train df"
   ]
  },
  {
   "cell_type": "markdown",
   "id": "30032305-f9bc-49a7-9ece-544251529e67",
   "metadata": {},
   "source": [
    "### Preparing data:"
   ]
  },
  {
   "cell_type": "code",
   "execution_count": null,
   "id": "33b009f8",
   "metadata": {},
   "outputs": [],
   "source": [
    "# checking attribute correlation to upvotes\n",
    "corr_matrix = reddit_upvotes_train_df.corr()\n",
    "corr_matrix[\"Upvotes\"].sort_values(ascending=False)"
   ]
  },
  {
   "cell_type": "code",
   "execution_count": null,
   "id": "3ab19eab-fa50-4df4-aad9-a9f0bfdd4e2b",
   "metadata": {},
   "outputs": [],
   "source": [
    "# checking combo attributes\n",
    "upvotes_copy = reddit_upvotes_train_df.copy()\n",
    "\n",
    "upvotes_copy[\"rep_per_view\"] = upvotes_copy[\"Reputation\"] / upvotes_copy[\"Views\"]\n",
    "upvotes_copy[\"view_per_rep\"] = upvotes_copy[\"Views\"] / upvotes_copy[\"Reputation\"]\n",
    "upvotes_copy[\"ans_per_view\"] = upvotes_copy[\"Answers\"] / upvotes_copy[\"Views\"]\n",
    "\n",
    "corr_matrix = upvotes_copy.corr()\n",
    "corr_matrix[\"Upvotes\"].sort_values(ascending=False)"
   ]
  },
  {
   "cell_type": "code",
   "execution_count": null,
   "id": "2391c7e7-6b6a-4801-b8c8-ec313d66f7ec",
   "metadata": {},
   "outputs": [],
   "source": [
    "# looking at scatter plot for upvotes per views\n",
    "reddit_upvotes_train_df.plot(kind=\"scatter\", x=\"Views\", y=\"Upvotes\", alpha=0.1)"
   ]
  },
  {
   "cell_type": "code",
   "execution_count": null,
   "id": "cf903e78-fdc7-4d1e-b1a8-c707f60453b5",
   "metadata": {},
   "outputs": [],
   "source": [
    "# remove categorical attribute tag from df\n",
    "train_numerical = reddit_upvotes_train_df.drop(\"Tag\", axis=1)\n",
    "train_numerical"
   ]
  },
  {
   "cell_type": "code",
   "execution_count": null,
   "id": "3194301a-232f-47da-95ee-10b0f026ee32",
   "metadata": {},
   "outputs": [],
   "source": [
    "# Train using linear regression\n",
    "from sklearn.linear_model import LinearRegression\n",
    "\n",
    "data_labels = train_numerical[\"Upvotes\"].copy()\n",
    "lin_reg = LinearRegression()\n",
    "lin_reg.fit(train_numerical, data_labels)"
   ]
  },
  {
   "cell_type": "code",
   "execution_count": null,
   "id": "5ec535ba-5b99-4bdc-acf8-8013ca184004",
   "metadata": {},
   "outputs": [],
   "source": [
    "from sklearn.metrics import mean_squared_error\n",
    "\n",
    "predictions = lin_reg.predict(train_numerical)\n",
    "lin_mse = mean_squared_error(data_labels, predictions)\n",
    "lin_rmse = np.sqrt(lin_mse)\n",
    "lin_rmse "
   ]
  },
  {
   "cell_type": "markdown",
   "id": "16bfd81b-17be-4b0b-a81d-b06143140675",
   "metadata": {},
   "source": [
    "**For Comparison:**"
   ]
  },
  {
   "cell_type": "code",
   "execution_count": null,
   "id": "faa7bdcb-4c5f-49db-8d0b-d24908071e9e",
   "metadata": {},
   "outputs": [],
   "source": [
    "predictions"
   ]
  },
  {
   "cell_type": "code",
   "execution_count": null,
   "id": "5ce734ec-a4fb-4e7a-83c8-28d93f0a321f",
   "metadata": {},
   "outputs": [],
   "source": [
    "data_labels"
   ]
  },
  {
   "cell_type": "markdown",
   "id": "42985b3c-1142-457e-a445-11196abf1c2f",
   "metadata": {},
   "source": [
    "### Task #1: K-Fold Cross Validation"
   ]
  },
  {
   "cell_type": "code",
   "execution_count": null,
   "id": "8d22a6e5-fba8-448d-bae1-efe64214a3c1",
   "metadata": {},
   "outputs": [],
   "source": [
    "from sklearn.model_selection import cross_val_score\n",
    "\n",
    "def display_scores(scores):\n",
    "    print(\"Scores:\", scores)\n",
    "    print(\"Mean:\", scores.mean())\n",
    "    print(\"Standard deviation:\", scores.std())\n",
    "\n",
    "lin_scores = cross_val_score(lin_reg, train_numerical, data_labels, scoring=\"neg_mean_squared_error\", cv=10)\n",
    "lin_rmse_scores = np.sqrt(-lin_scores)\n",
    "\n",
    "display_scores(lin_rmse_scores)"
   ]
  },
  {
   "cell_type": "markdown",
   "id": "0fa885cc",
   "metadata": {},
   "source": [
    "#### executing tasks on uber fares df"
   ]
  },
  {
   "cell_type": "code",
   "execution_count": null,
   "id": "1991bd82",
   "metadata": {},
   "outputs": [],
   "source": []
  }
 ],
 "metadata": {
  "kernelspec": {
   "display_name": "Python 3 (ipykernel)",
   "language": "python",
   "name": "python3"
  },
  "language_info": {
   "codemirror_mode": {
    "name": "ipython",
    "version": 3
   },
   "file_extension": ".py",
   "mimetype": "text/x-python",
   "name": "python",
   "nbconvert_exporter": "python",
   "pygments_lexer": "ipython3",
   "version": "3.9.7"
  }
 },
 "nbformat": 4,
 "nbformat_minor": 5
}
