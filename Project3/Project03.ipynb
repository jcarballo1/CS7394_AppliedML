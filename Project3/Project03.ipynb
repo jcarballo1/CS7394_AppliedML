{
 "cells": [
  {
   "cell_type": "markdown",
   "id": "7f128bc6",
   "metadata": {},
   "source": [
    "# Project 3\n",
    "## CS 7324\n",
    "#### Jennifer Carballo & Amory Weinzierl"
   ]
  },
  {
   "cell_type": "code",
   "execution_count": null,
   "id": "803cb89b",
   "metadata": {},
   "outputs": [],
   "source": [
    "# import libraries\n",
    "import pandas as pd\n",
    "import matplotlib.pyplot as plt\n",
    "import numpy as np"
   ]
  },
  {
   "cell_type": "markdown",
   "id": "5c172408",
   "metadata": {},
   "source": [
    "#### load in datasets"
   ]
  },
  {
   "cell_type": "code",
   "execution_count": null,
   "id": "fcded35e",
   "metadata": {},
   "outputs": [],
   "source": [
    "# load in real estate dataset\n",
    "\n",
    "real_estate_df = pd.read_csv(\"data/WakeCountyHousing.csv\")\n",
    "\n",
    "# display df\n",
    "real_estate_df.head()"
   ]
  },
  {
   "cell_type": "code",
   "execution_count": null,
   "id": "fa691381",
   "metadata": {},
   "outputs": [],
   "source": [
    "# load in reddit upvote dataset - test and train\n",
    "\n",
    "reddit_upvotes_train_df = pd.read_csv(\"data/train_NIR5Yl1.csv\")\n",
    "reddit_upvotes_test_df = pd.read_csv(\"data/test_8i3B3FC.csv\")\n",
    "\n",
    "reddit_upvotes_train_df.head()"
   ]
  },
  {
   "cell_type": "code",
   "execution_count": null,
   "id": "04c315b0",
   "metadata": {},
   "outputs": [],
   "source": [
    "reddit_upvotes_test_df.head()"
   ]
  },
  {
   "cell_type": "code",
   "execution_count": null,
   "id": "a0fff5ec",
   "metadata": {},
   "outputs": [],
   "source": [
    "# load in uber fare dataset\n",
    "\n",
    "uber_fares_df = pd.read_csv(\"data/uber.csv\")\n",
    "uber_fares_df = uber_fares_df.rename(columns={'Unnamed: 0': 'index'})\n",
    "uber_fares_df = uber_fares_df.set_index(\"index\")\n",
    "\n",
    "uber_fares_df.head()"
   ]
  },
  {
   "cell_type": "markdown",
   "id": "c561ec05",
   "metadata": {},
   "source": [
    "#### explore data"
   ]
  },
  {
   "cell_type": "markdown",
   "id": "97990087",
   "metadata": {},
   "source": [
    "##### explore real estate data"
   ]
  },
  {
   "cell_type": "code",
   "execution_count": null,
   "id": "a7d8b49f",
   "metadata": {},
   "outputs": [],
   "source": [
    "real_estate_df.info()"
   ]
  },
  {
   "cell_type": "code",
   "execution_count": null,
   "id": "a27b211a",
   "metadata": {},
   "outputs": [],
   "source": [
    "real_estate_df.describe()"
   ]
  },
  {
   "cell_type": "code",
   "execution_count": null,
   "id": "42fe4b3d",
   "metadata": {},
   "outputs": [],
   "source": [
    "real_estate_df.hist(bins=50, figsize=(20,15))\n",
    "plt.show()"
   ]
  },
  {
   "cell_type": "code",
   "execution_count": null,
   "id": "58b96d55",
   "metadata": {},
   "outputs": [],
   "source": [
    "real_estate_df.isna().sum().sum()"
   ]
  },
  {
   "cell_type": "code",
   "execution_count": null,
   "id": "3911146d",
   "metadata": {},
   "outputs": [],
   "source": [
    "for columnName in real_estate_df:\n",
    "    print(columnName, real_estate_df[columnName].dtypes)"
   ]
  },
  {
   "cell_type": "code",
   "execution_count": null,
   "id": "fc00ecd1",
   "metadata": {},
   "outputs": [],
   "source": [
    "for columnName in real_estate_df:\n",
    "    print(columnName, real_estate_df[columnName].isna().sum())"
   ]
  },
  {
   "cell_type": "markdown",
   "id": "0120b645",
   "metadata": {},
   "source": [
    "##### explore reddit upvote training data"
   ]
  },
  {
   "cell_type": "code",
   "execution_count": null,
   "id": "8b12c6c3",
   "metadata": {},
   "outputs": [],
   "source": [
    "reddit_upvotes_train_df.info()"
   ]
  },
  {
   "cell_type": "code",
   "execution_count": null,
   "id": "328478f5",
   "metadata": {},
   "outputs": [],
   "source": [
    "reddit_upvotes_train_df.describe()"
   ]
  },
  {
   "cell_type": "code",
   "execution_count": null,
   "id": "ba1801a9",
   "metadata": {},
   "outputs": [],
   "source": [
    "reddit_upvotes_train_df.hist(bins=50, figsize=(20,15))\n",
    "plt.show()"
   ]
  },
  {
   "cell_type": "code",
   "execution_count": null,
   "id": "5f59c1c0",
   "metadata": {},
   "outputs": [],
   "source": [
    "reddit_upvotes_train_df.isna().sum().sum()"
   ]
  },
  {
   "cell_type": "code",
   "execution_count": null,
   "id": "c2f1548f",
   "metadata": {},
   "outputs": [],
   "source": [
    "for columnName in reddit_upvotes_train_df:\n",
    "    print(columnName, reddit_upvotes_train_df[columnName].dtypes)"
   ]
  },
  {
   "cell_type": "markdown",
   "id": "9429ad86",
   "metadata": {},
   "source": [
    "##### explore uber fares data"
   ]
  },
  {
   "cell_type": "code",
   "execution_count": null,
   "id": "33b9e929",
   "metadata": {},
   "outputs": [],
   "source": [
    "uber_fares_df.info()"
   ]
  },
  {
   "cell_type": "code",
   "execution_count": null,
   "id": "78723317",
   "metadata": {},
   "outputs": [],
   "source": [
    "uber_fares_df.describe()"
   ]
  },
  {
   "cell_type": "code",
   "execution_count": null,
   "id": "1427d42d",
   "metadata": {},
   "outputs": [],
   "source": [
    "uber_fares_df.hist(bins=50, figsize=(20,15))\n",
    "plt.show()"
   ]
  },
  {
   "cell_type": "code",
   "execution_count": null,
   "id": "4658f754",
   "metadata": {},
   "outputs": [],
   "source": [
    "uber_fares_df.isna().sum().sum()"
   ]
  },
  {
   "cell_type": "code",
   "execution_count": null,
   "id": "6c9ba678",
   "metadata": {},
   "outputs": [],
   "source": [
    "for columnName in uber_fares_df:\n",
    "    print(columnName, uber_fares_df[columnName].isna().sum())"
   ]
  },
  {
   "cell_type": "code",
   "execution_count": null,
   "id": "e5195220",
   "metadata": {},
   "outputs": [],
   "source": [
    "# since only two datapoints in entire dataframe are null, simply remove rows where null data is\n",
    "uber_fares_df = uber_fares_df.dropna()"
   ]
  },
  {
   "cell_type": "code",
   "execution_count": null,
   "id": "ffc0d8f6",
   "metadata": {},
   "outputs": [],
   "source": [
    "uber_fares_df.isna().sum().sum()"
   ]
  },
  {
   "cell_type": "code",
   "execution_count": null,
   "id": "49165bf2",
   "metadata": {},
   "outputs": [],
   "source": [
    "for columnName in uber_fares_df:\n",
    "    print(columnName, uber_fares_df[columnName].dtypes)"
   ]
  },
  {
   "cell_type": "markdown",
   "id": "15f03420",
   "metadata": {},
   "source": [
    "#### executing tasks on real estate df"
   ]
  },
  {
   "cell_type": "code",
   "execution_count": null,
   "id": "50e98802",
   "metadata": {},
   "outputs": [],
   "source": [
    "# replace missing values\n",
    "\n",
    "for columnName in real_estate_df:\n",
    "    print(columnName, real_estate_df[columnName].isna().sum())"
   ]
  },
  {
   "cell_type": "code",
   "execution_count": null,
   "id": "2c1946ed",
   "metadata": {},
   "outputs": [],
   "source": [
    "real_estate_df['Bath'].value_counts()"
   ]
  },
  {
   "cell_type": "code",
   "execution_count": null,
   "id": "491e779f",
   "metadata": {},
   "outputs": [],
   "source": [
    "real_estate_df[real_estate_df['Bath'].isna()]"
   ]
  },
  {
   "cell_type": "code",
   "execution_count": null,
   "id": "35787301",
   "metadata": {},
   "outputs": [],
   "source": [
    "real_estate_df[(real_estate_df['Bath'].isna()) & (real_estate_df['Design_Style'] == 'Conventional')]"
   ]
  },
  {
   "cell_type": "code",
   "execution_count": null,
   "id": "338e02b6",
   "metadata": {},
   "outputs": [],
   "source": [
    "real_estate_df[real_estate_df['Design_Style'] == \"Conventional\"][\"Bath\"].value_counts()"
   ]
  },
  {
   "cell_type": "code",
   "execution_count": null,
   "id": "b860d767",
   "metadata": {},
   "outputs": [],
   "source": [
    "real_estate_df[real_estate_df['Design_Style'] == \"Conventional\"][\"Bath\"].mode()[0]"
   ]
  },
  {
   "cell_type": "code",
   "execution_count": null,
   "id": "84df1d5a",
   "metadata": {},
   "outputs": [],
   "source": [
    "real_estate_df.loc[real_estate_df['Design_Style'] == \"Conventional\", 'Bath'] = real_estate_df['Bath'].fillna(real_estate_df[real_estate_df['Design_Style'] == \"Conventional\"][\"Bath\"].mode()[0])"
   ]
  },
  {
   "cell_type": "code",
   "execution_count": null,
   "id": "6c2b8736",
   "metadata": {},
   "outputs": [],
   "source": [
    "real_estate_df[(real_estate_df['Bath'].isna()) & (real_estate_df['Design_Style'] == 'Conventional')]"
   ]
  },
  {
   "cell_type": "code",
   "execution_count": null,
   "id": "55db9b9f",
   "metadata": {},
   "outputs": [],
   "source": [
    "real_estate_df[real_estate_df['Design_Style'] == \"Condo\"][\"Bath\"].mode()[0]"
   ]
  },
  {
   "cell_type": "code",
   "execution_count": null,
   "id": "50f3163e",
   "metadata": {},
   "outputs": [],
   "source": [
    "real_estate_df.loc[real_estate_df['Design_Style'] == \"Condo\", 'Bath'] = real_estate_df['Bath'].fillna(real_estate_df[real_estate_df['Design_Style'] == \"Condo\"][\"Bath\"].mode()[0])"
   ]
  },
  {
   "cell_type": "code",
   "execution_count": null,
   "id": "a1e03a1d",
   "metadata": {},
   "outputs": [],
   "source": [
    "real_estate_df[(real_estate_df['Bath'].isna()) & (real_estate_df['Design_Style'] == 'Condo')]"
   ]
  },
  {
   "cell_type": "code",
   "execution_count": null,
   "id": "6a4efe99",
   "metadata": {},
   "outputs": [],
   "source": [
    "for columnName in real_estate_df:\n",
    "    print(columnName, real_estate_df[columnName].isna().sum())"
   ]
  },
  {
   "cell_type": "code",
   "execution_count": null,
   "id": "83b30caf",
   "metadata": {},
   "outputs": [],
   "source": [
    "print(len(real_estate_df))"
   ]
  },
  {
   "cell_type": "code",
   "execution_count": null,
   "id": "afd4313f",
   "metadata": {},
   "outputs": [],
   "source": [
    "real_estate_df = real_estate_df.dropna()"
   ]
  },
  {
   "cell_type": "code",
   "execution_count": null,
   "id": "c4d30d91",
   "metadata": {},
   "outputs": [],
   "source": [
    "for columnName in real_estate_df:\n",
    "    print(columnName, real_estate_df[columnName].isna().sum())"
   ]
  },
  {
   "cell_type": "code",
   "execution_count": null,
   "id": "68d612a6",
   "metadata": {},
   "outputs": [],
   "source": [
    "real_estate_df.isna().sum().sum()"
   ]
  },
  {
   "cell_type": "code",
   "execution_count": null,
   "id": "78610582",
   "metadata": {},
   "outputs": [],
   "source": [
    "# utilize ordinal encoder\n",
    "\n",
    "real_estate_df['Bath'].value_counts()"
   ]
  },
  {
   "cell_type": "code",
   "execution_count": null,
   "id": "70054ec9",
   "metadata": {},
   "outputs": [],
   "source": [
    "real_estate_df['Bath'] = real_estate_df['Bath'].replace('2½ Bath', 4)\n",
    "real_estate_df['Bath'] = real_estate_df['Bath'].replace('2 Bath', 3)\n",
    "real_estate_df['Bath'] = real_estate_df['Bath'].replace('3½ Bath', 6)\n",
    "real_estate_df['Bath'] = real_estate_df['Bath'].replace('3 Bath', 5)\n",
    "real_estate_df['Bath'] = real_estate_df['Bath'].replace('Other', 0)\n",
    "real_estate_df['Bath'] = real_estate_df['Bath'].replace('1 Bath', 1)\n",
    "real_estate_df['Bath'] = real_estate_df['Bath'].replace('1 ½ Bath', 2)"
   ]
  },
  {
   "cell_type": "code",
   "execution_count": null,
   "id": "7eb06335",
   "metadata": {},
   "outputs": [],
   "source": [
    "real_estate_df['Bath'].value_counts()"
   ]
  },
  {
   "cell_type": "code",
   "execution_count": null,
   "id": "f28a5fda",
   "metadata": {},
   "outputs": [],
   "source": [
    "# utilize one hot encoder\n",
    "\n",
    "from sklearn.preprocessing import OneHotEncoder\n",
    "\n",
    "encoder = OneHotEncoder(handle_unknown = 'ignore')\n",
    "\n",
    "encoder_df = pd.DataFrame(encoder.fit_transform(real_estate_df[['Num_Stories']]).toarray())\n",
    "                          \n",
    "final_df = real_estate_df.join(encoder_df)\n",
    "\n",
    "final_df"
   ]
  },
  {
   "cell_type": "code",
   "execution_count": null,
   "id": "762dd802",
   "metadata": {},
   "outputs": [],
   "source": [
    "real_estate_df.isna().sum().sum()"
   ]
  },
  {
   "cell_type": "code",
   "execution_count": null,
   "id": "7c8ba783",
   "metadata": {},
   "outputs": [],
   "source": [
    "# implement custom transformer\n",
    "# https://medium.com/@benlc77/how-to-write-clean-and-scalable-code-with-custom-transformers-sklearn-pipelines-ecb8e53fe110\n",
    "\n",
    "from sklearn.base import BaseEstimator, TransformerMixin\n",
    "\n",
    "class DropFeatureSelector(BaseEstimator, TransformerMixin):\n",
    "    def __init__(self, variables):\n",
    "        self.variables = variables\n",
    "    def fit(self, X, y = None):\n",
    "        return self\n",
    "    def transform(self, X):\n",
    "        X_dropped = X.drop(self.variables, axis = 1)\n",
    "        self.columns = X_dropped.columns\n",
    "        return X_dropped\n",
    "    \n",
    "transformer = DropFeatureSelector('Month_Year_of_Sale')"
   ]
  },
  {
   "cell_type": "code",
   "execution_count": null,
   "id": "914632e7",
   "metadata": {},
   "outputs": [],
   "source": [
    "transformer.fit(real_estate_df)"
   ]
  },
  {
   "cell_type": "code",
   "execution_count": null,
   "id": "1df62419",
   "metadata": {},
   "outputs": [],
   "source": [
    "transformer.transform(real_estate_df)"
   ]
  },
  {
   "cell_type": "code",
   "execution_count": null,
   "id": "648459e5",
   "metadata": {},
   "outputs": [],
   "source": [
    "# scale/normalize/standardize features using sklearn.preprocessing\n",
    "\n",
    "from sklearn.preprocessing import StandardScaler\n",
    "\n",
    "scaler = StandardScaler()\n",
    "\n",
    "scaled_features = scaler.fit_transform(real_estate_df.Heated_Area.values.reshape(-1,1))\n",
    "scaled_features"
   ]
  },
  {
   "cell_type": "code",
   "execution_count": null,
   "id": "c042f003",
   "metadata": {},
   "outputs": [],
   "source": [
    "real_estate_df['Heated_Area'] = scaled_features"
   ]
  },
  {
   "cell_type": "code",
   "execution_count": null,
   "id": "ed1ad224",
   "metadata": {},
   "outputs": [],
   "source": [
    "real_estate_df"
   ]
  },
  {
   "cell_type": "markdown",
   "id": "0e84de14",
   "metadata": {},
   "source": [
    "#### executing tasks on reddit train df"
   ]
  },
  {
   "cell_type": "code",
   "execution_count": null,
   "id": "33b009f8",
   "metadata": {},
   "outputs": [],
   "source": []
  },
  {
   "cell_type": "markdown",
   "id": "0fa885cc",
   "metadata": {},
   "source": [
    "#### executing tasks on uber fares df"
   ]
  },
  {
   "cell_type": "code",
   "execution_count": null,
   "id": "59523bd1",
   "metadata": {},
   "outputs": [],
   "source": [
    "# followed along with textbook classification chapter\n",
    "\n",
    "uber_fares_df"
   ]
  },
  {
   "cell_type": "code",
   "execution_count": null,
   "id": "11c626b6",
   "metadata": {},
   "outputs": [],
   "source": [
    "uber_fares_df.drop(columns=['key'], inplace = True)\n",
    "uber_fares_df"
   ]
  },
  {
   "cell_type": "code",
   "execution_count": null,
   "id": "148610c7",
   "metadata": {},
   "outputs": [],
   "source": [
    "uber_fares_df.drop(columns=['pickup_datetime'], inplace = True)\n",
    "uber_fares_df"
   ]
  },
  {
   "cell_type": "code",
   "execution_count": null,
   "id": "04e0245f",
   "metadata": {},
   "outputs": [],
   "source": [
    "x_data = uber_fares_df[['pickup_longitude', 'pickup_latitude', 'dropoff_longitude', 'dropoff_latitude', 'passenger_count']]\n",
    "y_data = uber_fares_df[['fare_amount']]"
   ]
  },
  {
   "cell_type": "code",
   "execution_count": null,
   "id": "ca80d6e6",
   "metadata": {},
   "outputs": [],
   "source": [
    "# create train and test sets for uber dataset\n",
    "from sklearn.model_selection import train_test_split\n",
    "\n",
    "X_train, X_test, y_train, y_test = train_test_split(x_data, y_data ,test_size = 0.2, shuffle=False)\n",
    "\n",
    "y_train_greater10 = (y_train > 10)\n",
    "y_test_greater10 = (y_test > 10)"
   ]
  },
  {
   "cell_type": "code",
   "execution_count": null,
   "id": "1991bd82",
   "metadata": {},
   "outputs": [],
   "source": [
    "# use SGDClassifier\n",
    "from sklearn.linear_model import SGDClassifier\n",
    "\n",
    "sgd_clf = SGDClassifier(random_state=42)\n",
    "sgd_clf.fit(X_train, y_train_greater10)\n",
    "\n",
    "sgd_y_pred = sgd_clf.predict(X_test)"
   ]
  },
  {
   "cell_type": "code",
   "execution_count": null,
   "id": "c617c403",
   "metadata": {},
   "outputs": [],
   "source": [
    "from sklearn.metrics import accuracy_score\n",
    "\n",
    "print(\"Accuracy:\", accuracy_score(y_test_greater10, sgd_y_pred))"
   ]
  },
  {
   "cell_type": "code",
   "execution_count": null,
   "id": "028cf7a1",
   "metadata": {},
   "outputs": [],
   "source": [
    "# use sklearn.linear_model_LinearRegression\n",
    "from sklearn.linear_model import LinearRegression\n",
    "\n",
    "lin_reg = LinearRegression()\n",
    "lin_reg.fit(X_train, y_train_greater10)\n",
    "\n",
    "print(\"Score:\",lin_reg.score(X_test, y_test_greater10))"
   ]
  },
  {
   "cell_type": "code",
   "execution_count": null,
   "id": "393ab6f2",
   "metadata": {},
   "outputs": [],
   "source": [
    "# use sklearn.tree.DecisionTreeRegressor\n",
    "\n",
    "from sklearn.tree import DecisionTreeRegressor \n",
    "\n",
    "regressor = DecisionTreeRegressor(random_state = 0) \n",
    "\n",
    "regressor.fit(X_train, y_train_greater10)\n",
    "\n",
    "print(\"Score:\",regressor.score(X_test, y_test_greater10))"
   ]
  },
  {
   "cell_type": "code",
   "execution_count": null,
   "id": "cc306380",
   "metadata": {},
   "outputs": [],
   "source": [
    "# use sklearn.ensemble.RandomForestClassifer\n",
    "\n",
    "from sklearn.ensemble import RandomForestClassifier\n",
    "\n",
    "rf_clf=RandomForestClassifier(n_estimators=100)\n",
    "\n",
    "rf_clf.fit(X_train,y_train_greater10)\n",
    "\n",
    "rf_y_pred=rf_clf.predict(X_test)"
   ]
  },
  {
   "cell_type": "code",
   "execution_count": null,
   "id": "00b76c08",
   "metadata": {},
   "outputs": [],
   "source": [
    "print(\"Accuracy:\", accuracy_score(y_test_greater10, rf_y_pred))"
   ]
  },
  {
   "cell_type": "code",
   "execution_count": null,
   "id": "55aae71e",
   "metadata": {},
   "outputs": [],
   "source": [
    "# use sklearn.neighbors.KNeighborsClassifier\n",
    "\n",
    "from sklearn.neighbors import KNeighborsClassifier\n",
    "from sklearn.model_selection import cross_val_predict\n",
    "import numpy as np\n",
    "\n",
    "y_train_large = (y_train >= 7)\n",
    "y_train_odd = (y_train % 2 == 1)\n",
    "y_multilabel = np.c_[y_train_large, y_train_odd]\n",
    "\n",
    "knn_clf = KNeighborsClassifier(n_neighbors=5)\n",
    "knn_clf.fit(X_train, y_multilabel)\n",
    "\n",
    "y_train_knn_pred = cross_val_predict(knn_clf, X_train, y_multilabel, cv=3)"
   ]
  },
  {
   "cell_type": "code",
   "execution_count": null,
   "id": "2ae0592f",
   "metadata": {},
   "outputs": [],
   "source": [
    "print(\"Accuracy:\",accuracy_score(y_multilabel, y_train_knn_pred))"
   ]
  },
  {
   "cell_type": "code",
   "execution_count": null,
   "id": "66c183d9",
   "metadata": {},
   "outputs": [],
   "source": [
    "# use OvO or OvR classifier\n",
    "\n",
    "from sklearn.multiclass import OneVsRestClassifier\n",
    "from sklearn.multiclass import OneVsOneClassifier\n",
    "from sklearn.linear_model import LogisticRegression\n",
    "\n",
    "OvO_clf = OneVsOneClassifier(LogisticRegression())\n",
    "OvO_clf.fit(X_train, y_train_greater10)\n",
    "\n",
    "y_pred = OvO_clf.predict(X_test)"
   ]
  },
  {
   "cell_type": "code",
   "execution_count": null,
   "id": "9fe7080f",
   "metadata": {},
   "outputs": [],
   "source": [
    "print(\"Accuracy:\",accuracy_score(y_test_greater10, y_pred))"
   ]
  },
  {
   "cell_type": "code",
   "execution_count": null,
   "id": "94ea5f4a",
   "metadata": {},
   "outputs": [],
   "source": []
  }
 ],
 "metadata": {
  "kernelspec": {
   "display_name": "Python 3 (ipykernel)",
   "language": "python",
   "name": "python3"
  },
  "language_info": {
   "codemirror_mode": {
    "name": "ipython",
    "version": 3
   },
   "file_extension": ".py",
   "mimetype": "text/x-python",
   "name": "python",
   "nbconvert_exporter": "python",
   "pygments_lexer": "ipython3",
   "version": "3.9.7"
  }
 },
 "nbformat": 4,
 "nbformat_minor": 5
}
